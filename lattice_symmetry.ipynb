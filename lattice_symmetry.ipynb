{
 "cells": [
  {
   "cell_type": "markdown",
   "metadata": {},
   "source": [
    "## Välkommen till dagens programmeringslabb i Matematik 3c!\n",
    "\n",
    "Här kommer vi att bekanta oss med hur matematiska uppgifter kan lösas med hjälp av programmeringsspråket **Python**."
   ]
  },
  {
   "cell_type": "markdown",
   "metadata": {},
   "source": [
    "### Syntax och python-funktioner\n",
    "Vi börjar med att skriva ut text på skärmen. Nedan finns en s.k. \"cell\", där man kan skriva in programkod.\n",
    "Den första raden börjar med ett anrop till python-funktionen \"print\", följt av *argumentet* till funktionen inom parentes. Text definieras med hjälp av citattecken. Man kan exekvera cellen genom att clicka vänster på den med pekaren, följd av kombinationen ctrl+enter på tangentbordet, eller genom att trycka på \"run\"-knappen ovanför. Tecknet \"#\" används i början av en rad för att den ska upfattas som en kommentar, dvs inte exekveras. \n",
    "\n",
    "1) Exekvera exempel-cellen nedan"
   ]
  },
  {
   "cell_type": "code",
   "execution_count": null,
   "metadata": {},
   "outputs": [],
   "source": [
    "print(\"Hello world!\")\n",
    "#print(\"Hello Python!\");\n",
    "#print(Hello debugging!\");"
   ]
  },
  {
   "cell_type": "markdown",
   "metadata": {},
   "source": [
    "2) Testa att ta bort # framför andra raden i cellen nedanför, följt av exekvering.\n",
    "3) Ta sen bort # framför tredje raden, följt av exekvering "
   ]
  },
  {
   "cell_type": "code",
   "execution_count": null,
   "metadata": {},
   "outputs": [],
   "source": [
    "print(\"Hello world!\")\n",
    "#print(\"Hello Python!\");\n",
    "#print(Hello debugging!\");"
   ]
  },
  {
   "cell_type": "markdown",
   "metadata": {},
   "source": [
    "Du har nu råkat ut för ett så-kallat \"syntax fel\", dvs python kan inte förstå det som skickats in. I det här fallet förväntar sej funktionen \"print\" en text, som definieras mha citattecken. Något saknas för att anropet i 3e raden ska ha korrekt syntax. Fixa det och exekvera igen."
   ]
  },
  {
   "cell_type": "markdown",
   "metadata": {},
   "source": [
    "### Indentering\n",
    "Python använder *indentering* (~indrag) för att hålla ordning i koden. Indentering är alltså hur långt, dvs hur mågna mellanslag, programkoden är indragen från vänstermarginalen. \n",
    "När man definierar en python-funktion, berättar indenteringen berättar för Python vilken kod som tillhär just den funktionen. Om man inte är konsekvent med sin indentering förstår inte Python vad en viss rad kod tillhör, och kan inte exekveras. Testa att exekvera cellen nedanför och försök att fixa indenteringsfelet."
   ]
  },
  {
   "cell_type": "code",
   "execution_count": null,
   "metadata": {},
   "outputs": [],
   "source": [
    "#Funktionen f(x) beräknar x^2 + 3x + 1 och returnerar svaret.\n",
    "def f(x):\n",
    "\t#Följande två rader tillhör funktionen f(x) eftersom de är\n",
    "\t#indenterade (inflyttade med hjälp av tab/mellanslag).\n",
    "\tsvar = x**2 + 3*x + 1\n",
    "\t return svar\n",
    "\n",
    "#Vi kan nu beräkna f(x) för olika x.\n",
    "y0 = f(0)\n",
    "y1 = f(1)\n",
    "\n",
    "#Svaren kan vi skriva ut på följande vis.\n",
    "print('f(0) =', y0)\n",
    "print('f(1) =', y1)\n",
    "\n",
    "#Det är också möjligt att beräkna och skriva ut svaret direkt på en och\n",
    "#samma rad.\n",
    "print('f(2) =', f(2))"
   ]
  },
  {
   "cell_type": "markdown",
   "metadata": {},
   "source": [
    "Nu är ni redo att testa python i relation till matematik 3c.\n"
   ]
  },
  {
   "cell_type": "markdown",
   "metadata": {},
   "source": [
    "### Uppgift 1: Numerisk derivering\n",
    "\n",
    "I cellen nedanför definieras en python-funktion som beräknar den matematiska funktionen $$f(x)=x^{3}+2x+5$$"
   ]
  },
  {
   "cell_type": "code",
   "execution_count": null,
   "metadata": {},
   "outputs": [],
   "source": [
    "#Definition av funktionen f(x).\n",
    "#'x**3' betyder 'x upphöjt i tre' medans '2*x' betyder 'två gånger x'.\n",
    "def f(x):\n",
    "    return x**3 + 2*x + 5\n"
   ]
  },
  {
   "cell_type": "code",
   "execution_count": null,
   "metadata": {},
   "outputs": [],
   "source": [
    "# För senare bruk, skriv in g(x) och h(x) nedan\n",
    "#def g(x):\n",
    "#    return ?????\n",
    "\n",
    "#def h(x):\n",
    "#    return ?????\n"
   ]
  },
  {
   "cell_type": "markdown",
   "metadata": {},
   "source": [
    "Fundera över hur python-funktionen evaluerar den matematiska funktionen, hur beräknas exponenter, vad den tar för *argument* och hur den matematiska funktionen beräknas och resultatet *returneras*.\n",
    "\n",
    "Nedanför definieras en annan python-funktion, som numeriskt beräknar derivatan i en punkt *a* av en matematisk funktion *f(x)* som redan är definierad (i cellen ovanför):"
   ]
  },
  {
   "cell_type": "code",
   "execution_count": null,
   "metadata": {},
   "outputs": [],
   "source": [
    "#Definition av närmevärde till f'(x) för finit h.\n",
    "def f_prim(a):\n",
    "    h = 0.1\n",
    "    return (f(a + h) - f(a)) / h"
   ]
  },
  {
   "cell_type": "markdown",
   "metadata": {},
   "source": [
    "Funktionen *f_prim(a)* beräknar derivatan numeriskt, dvs en *differenskvor frammåt* för ett värde på *h*. Dvs:\n",
    "$$f'(x)=\\lim_{h\\rightarrow 0} \\frac{f(a+h)-f(a)}{h} \\approx \\frac{f(a+h)-f(a)}{h} $$ \n",
    "om *h* är litet.\n",
    "\n",
    "Nu har vi definierat en funktion *f(x)* och en funktion *f_prim(a)*. Låt oss nu se vad derivatan blir för *a=4* genom att använda python-funktionen *print*, som nu matas med 2 *argument*, textsträngen \"f'(4) =\" samt det tal som returneras av python-funktionen *f_prim(4)*:"
   ]
  },
  {
   "cell_type": "code",
   "execution_count": null,
   "metadata": {},
   "outputs": [],
   "source": [
    "print(\"f'(4) =\", f_prim(4))"
   ]
  },
  {
   "cell_type": "markdown",
   "metadata": {},
   "source": [
    "När vi definierade python-funktionen för de<rivatan bestämde vi att steget *h* skulle vara 0.1, minska till *h=0.01* och exekvera cellerna igen. **Tänk på att ni måste exekvera cellen där *f_prim(a)* definieras FÖRST, annars kommer inte förändringen i *h* med i evalueringen av *f_prim(a)*, efter det måste ni exekvera cellen med utskriften.**\n",
    "Notera skillnaden i resultatet *f'(4)*.\n",
    "\n",
    "Fortsätt sedan miska *h* till du har minst 2 decilamers nogrannhet. \n",
    "Vi kan jämföra med det analytiska resultatet:\n",
    "$$f'(x)=\\frac{d}{dx}(x^{3}+2x+5)=3x^2+2 \\implies f'(4)=3\\cdot4^{2}+2=50$$."
   ]
  },
  {
   "cell_type": "markdown",
   "metadata": {},
   "source": [
    "Ändra nu funktionen *f(x)* till att evaluera $$f(x)=x^{2}-x^{3}+35x-20$$ och beräkna ett närmevärde till f'(2). Fundera över vila rader i kod-rutorna ovanför du måste modifiera. **Tänk på att ni måste exekvera alla celler där ni har ändrat, starta med den översta.**\n",
    "\n",
    "\n",
    "Nu kan ni även testa att evaluera närmevärden till *g'(1)* då $$g(x)=x^{10}$$ och h'(2) då $$h(x)=x^{x}$$, genom att definiera python-funktioner som evaluerar *g(x)* och *h(x)*, förändra *f_prim(x)* till att använda *g(x)* eller *h(x)* eller skriv en ny funktion *g_prim(x)* eller *h_prim(x)*."
   ]
  },
  {
   "cell_type": "markdown",
   "metadata": {},
   "source": [
    "### Innan ni går vidare!\n",
    "**Tryck på länken nedan, logga in på studium och fyll i ert namn i textfältet följt av *skicka uppgift*, så ni blir bokförda som labbdeltagare.**\n",
    "https://uppsala.instructure.com/courses/48375/assignments/76893\n",
    "\n",
    "### Exempel 2: Ekvationslösning med intervallhalveringsmetoden\n",
    "När vi saknar algebraisk lösning till en ekvation kan vi använda oss av *intervallhalveringsmetoden*. Följ bokens instruktioner på sidorna 142-143 i läroboken (sidorna finns i labbinstruktionen på studium)"
   ]
  },
  {
   "cell_type": "code",
   "execution_count": null,
   "metadata": {},
   "outputs": [],
   "source": [
    "def f(x):\n",
    "\treturn x**3 - 7*x**2 + 29\n",
    "a = 2\n",
    "b = 3\n",
    "while b-a > 0.001:\n",
    "\tm = (a + b)/2\n",
    "\tif f(a)*f(m) < 0:\n",
    "\t\tb = m\n",
    "\telse:\n",
    "\t\ta = m\n",
    "print(\"Ekvationen har en rot x =\", round(m,3))"
   ]
  },
  {
   "cell_type": "markdown",
   "metadata": {},
   "source": [
    "### Exempel 3: Integraler med programmering\n",
    "Försök nu på egen hand skriva programkoden och lösa dom uppgifter som står på sidan 310-311 i läroboken (sidorna finns i labbinstruktionen på studium)"
   ]
  },
  {
   "cell_type": "code",
   "execution_count": null,
   "metadata": {},
   "outputs": [],
   "source": []
  },
  {
   "cell_type": "code",
   "execution_count": null,
   "metadata": {},
   "outputs": [],
   "source": []
  }
 ],
 "metadata": {
  "kernelspec": {
   "display_name": "Python 3",
   "language": "python",
   "name": "python3"
  },
  "language_info": {
   "codemirror_mode": {
    "name": "ipython",
    "version": 3
   },
   "file_extension": ".py",
   "mimetype": "text/x-python",
   "name": "python",
   "nbconvert_exporter": "python",
   "pygments_lexer": "ipython3",
   "version": "3.7.10"
  }
 },
 "nbformat": 4,
 "nbformat_minor": 4
}
